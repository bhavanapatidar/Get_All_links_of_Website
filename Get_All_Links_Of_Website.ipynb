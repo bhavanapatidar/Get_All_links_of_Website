{
 "cells": [
  {
   "cell_type": "code",
   "execution_count": 1,
   "metadata": {},
   "outputs": [
    {
     "name": "stdout",
     "output_type": "stream",
     "text": [
      "Enter Link: https://www.geeksforgeeks.org/work-and-wages/\n"
     ]
    }
   ],
   "source": [
    "import requests as rq\n",
    "from bs4 import BeautifulSoup\n",
    "\n",
    "url = input(\"Enter Link: \")\n",
    "if (\"https\" or \"http\") in url:\n",
    "    data = rq.get(url)\n",
    "else:\n",
    "    data = rq.get(\"https://\" + url)\n",
    "soup = BeautifulSoup(data.text, \"html.parser\")\n",
    "links = []\n",
    "for link in soup.find_all(\"a\"):\n",
    "    links.append(link.get(\"href\"))\n",
    "\n",
    "# Writing the output to a file (myLinks.txt) instead of to stdout\n",
    "# You can change 'a' to 'w' to overwrite the file each time\n",
    "with open(\"myLinks1.txt\", 'a') as saved:\n",
    "    print(links[:10], file=saved)"
   ]
  },
  {
   "cell_type": "code",
   "execution_count": null,
   "metadata": {},
   "outputs": [],
   "source": []
  }
 ],
 "metadata": {
  "kernelspec": {
   "display_name": "Python 3",
   "language": "python",
   "name": "python3"
  },
  "language_info": {
   "codemirror_mode": {
    "name": "ipython",
    "version": 3
   },
   "file_extension": ".py",
   "mimetype": "text/x-python",
   "name": "python",
   "nbconvert_exporter": "python",
   "pygments_lexer": "ipython3",
   "version": "3.8.3"
  }
 },
 "nbformat": 4,
 "nbformat_minor": 4
}
